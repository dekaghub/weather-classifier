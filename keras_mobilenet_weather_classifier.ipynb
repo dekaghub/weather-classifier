{
  "nbformat": 4,
  "nbformat_minor": 0,
  "metadata": {
    "colab": {
      "name": "keras-mobilenet-weather-classifier",
      "provenance": []
    },
    "kernelspec": {
      "name": "python3",
      "display_name": "Python 3"
    },
    "accelerator": "GPU"
  },
  "cells": [
    {
      "cell_type": "markdown",
      "metadata": {
        "id": "RQ4WxuR6hu5_",
        "colab_type": "text"
      },
      "source": [
        "## Keras MobileNet V1 classifier\n",
        "\n",
        "Weather dataset credits : Ajayi, Gbeminiyi (2018), “Multi-class Weather Dataset for Image Classification”, Mendeley Data, v1 http://dx.doi.org/10.17632/4drtyfjtfy.1 "
      ]
    },
    {
      "cell_type": "code",
      "metadata": {
        "id": "-xL4ikMUnMuP",
        "colab_type": "code",
        "colab": {}
      },
      "source": [
        "import numpy as np\n",
        "import tensorflow as tf\n",
        "from tensorflow import keras\n",
        "from tensorflow.keras.layers import Dense, Activation\n",
        "from tensorflow.keras.optimizers import Adam\n",
        "from tensorflow.keras.metrics import categorical_crossentropy\n",
        "from tensorflow.keras.preprocessing.image import ImageDataGenerator\n",
        "from tensorflow.keras.preprocessing import image\n",
        "from tensorflow.keras.models import Model\n",
        "from tensorflow.keras.applications import imagenet_utils\n",
        "from sklearn.metrics import confusion_matrix, accuracy_score\n",
        "import itertools\n",
        "import os\n",
        "import shutil\n",
        "import glob\n",
        "import random\n",
        "import matplotlib.pyplot as plt\n",
        "%matplotlib inline"
      ],
      "execution_count": 71,
      "outputs": []
    },
    {
      "cell_type": "code",
      "metadata": {
        "id": "oxhJv7u8ifa3",
        "colab_type": "code",
        "colab": {
          "base_uri": "https://localhost:8080/",
          "height": 36
        },
        "outputId": "7a8602d7-00f4-4df9-d991-d664db844505"
      },
      "source": [
        "from google.colab import drive\n",
        "drive.mount('/content/drive')"
      ],
      "execution_count": 12,
      "outputs": [
        {
          "output_type": "stream",
          "text": [
            "Drive already mounted at /content/drive; to attempt to forcibly remount, call drive.mount(\"/content/drive\", force_remount=True).\n"
          ],
          "name": "stdout"
        }
      ]
    },
    {
      "cell_type": "code",
      "metadata": {
        "id": "jVsTDy_bjMnK",
        "colab_type": "code",
        "colab": {}
      },
      "source": [
        "path = '/content/drive/My Drive/datasets/weather-dataset/partition'\n",
        "filepath = '/content/drive/My Drive/datasets/weather-dataset/weather/'\n",
        "\n",
        "len(glob.glob(filepath + \"*.jpg\"))\n",
        "\n",
        "if os.path.isdir(path) is False:\n",
        "  os.makedirs(path + '/train/cloudy')\n",
        "  os.makedirs(path + '/train/rain')\n",
        "  os.makedirs(path + '/train/shine')\n",
        "  os.makedirs(path + '/train/sunrise')\n",
        "  os.makedirs(path + '/valid/cloudy')\n",
        "  os.makedirs(path + '/valid/rain')\n",
        "  os.makedirs(path + '/valid/shine')\n",
        "  os.makedirs(path + '/valid/sunrise')\n",
        "  os.makedirs(path + '/test/cloudy')\n",
        "  os.makedirs(path + '/test/rain')\n",
        "  os.makedirs(path + '/test/shine')\n",
        "  os.makedirs(path + '/test/sunrise')\n",
        "\n",
        "  for i in random.sample(glob.glob(filepath + \"cloudy*.jpg\"), 120):\n",
        "    shutil.move(i, path + '/train/cloudy/')\n",
        "  for i in random.sample(glob.glob(filepath + \"rain*.jpg\"), 120):\n",
        "    shutil.move(i, path + '/train/rain/')\n",
        "  for i in random.sample(glob.glob(filepath + \"shine*.jpg\"), 120):\n",
        "    shutil.move(i, path + '/train/shine/')\n",
        "  for i in random.sample(glob.glob(filepath + \"sunrise*.jpg\"), 120):\n",
        "    shutil.move(i, path + '/train/sunrise/')\n",
        "  for i in random.sample(glob.glob(filepath + \"cloudy*.jpg\"), 30):\n",
        "    shutil.move(i, path + '/valid/cloudy/')\n",
        "  for i in random.sample(glob.glob(filepath + \"rain*.jpg\"), 30):\n",
        "    shutil.move(i, path + '/valid/rain/')\n",
        "  for i in random.sample(glob.glob(filepath + \"shine*.jpg\"), 30):\n",
        "    shutil.move(i, path + '/valid/shine/')\n",
        "  for i in random.sample(glob.glob(filepath + \"sunrise*.jpg\"), 30):\n",
        "    shutil.move(i, path + '/valid/sunrise/')\n",
        "  for i in random.sample(glob.glob(filepath + \"cloudy*.jpg\"), 30):\n",
        "    shutil.move(i, path + '/test/cloudy/')\n",
        "  for i in random.sample(glob.glob(filepath + \"rain*.jpg\"), 30):\n",
        "    shutil.move(i, path + '/test/rain/')\n",
        "  for i in random.sample(glob.glob(filepath + \"shine*.jpg\"), 30):\n",
        "    shutil.move(i, path + '/test/shine/')\n",
        "  for i in random.sample(glob.glob(filepath + \"sunrise*.jpg\"), 30):\n",
        "    shutil.move(i, path + '/test/sunrise/')\n",
        "  "
      ],
      "execution_count": 13,
      "outputs": []
    },
    {
      "cell_type": "code",
      "metadata": {
        "id": "kgI3oIcowSi_",
        "colab_type": "code",
        "colab": {
          "base_uri": "https://localhost:8080/",
          "height": 73
        },
        "outputId": "616f50c2-692d-4dcc-9555-26ebd4a8fcf1"
      },
      "source": [
        "train_path = path + '/train'\n",
        "valid_path = path + '/valid'\n",
        "test_path = path + '/test'\n",
        "\n",
        "train_batches = ImageDataGenerator(preprocessing_function=tf.keras.applications.mobilenet.preprocess_input) \\\n",
        "                  .flow_from_directory(directory=train_path, target_size=(224,224), batch_size=10)\n",
        "valid_batches = ImageDataGenerator(preprocessing_function=tf.keras.applications.mobilenet.preprocess_input) \\\n",
        "                  .flow_from_directory(directory=valid_path, target_size=(224,224), batch_size=10)\n",
        "test_batches = ImageDataGenerator(preprocessing_function=tf.keras.applications.mobilenet.preprocess_input)  \\\n",
        "                  .flow_from_directory(directory=test_path, target_size=(224,224), batch_size=10, shuffle=False)"
      ],
      "execution_count": 14,
      "outputs": [
        {
          "output_type": "stream",
          "text": [
            "Found 480 images belonging to 4 classes.\n",
            "Found 120 images belonging to 4 classes.\n",
            "Found 120 images belonging to 4 classes.\n"
          ],
          "name": "stdout"
        }
      ]
    },
    {
      "cell_type": "code",
      "metadata": {
        "id": "XOjYQTDgxIP_",
        "colab_type": "code",
        "colab": {
          "base_uri": "https://localhost:8080/",
          "height": 54
        },
        "outputId": "7be38eaf-1b13-473a-dfbe-b04e98229e6a"
      },
      "source": [
        "mobile = keras.applications.mobilenet.MobileNet()"
      ],
      "execution_count": 15,
      "outputs": [
        {
          "output_type": "stream",
          "text": [
            "Downloading data from https://storage.googleapis.com/tensorflow/keras-applications/mobilenet/mobilenet_1_0_224_tf.h5\n",
            "17227776/17225924 [==============================] - 0s 0us/step\n"
          ],
          "name": "stdout"
        }
      ]
    },
    {
      "cell_type": "code",
      "metadata": {
        "id": "6Ys746bJxkes",
        "colab_type": "code",
        "colab": {
          "base_uri": "https://localhost:8080/",
          "height": 1000
        },
        "outputId": "4324280e-bd85-49e5-b969-9b0ec9ec84d3"
      },
      "source": [
        "mobile.summary()"
      ],
      "execution_count": 16,
      "outputs": [
        {
          "output_type": "stream",
          "text": [
            "Model: \"mobilenet_1.00_224\"\n",
            "_________________________________________________________________\n",
            "Layer (type)                 Output Shape              Param #   \n",
            "=================================================================\n",
            "input_1 (InputLayer)         [(None, 224, 224, 3)]     0         \n",
            "_________________________________________________________________\n",
            "conv1_pad (ZeroPadding2D)    (None, 225, 225, 3)       0         \n",
            "_________________________________________________________________\n",
            "conv1 (Conv2D)               (None, 112, 112, 32)      864       \n",
            "_________________________________________________________________\n",
            "conv1_bn (BatchNormalization (None, 112, 112, 32)      128       \n",
            "_________________________________________________________________\n",
            "conv1_relu (ReLU)            (None, 112, 112, 32)      0         \n",
            "_________________________________________________________________\n",
            "conv_dw_1 (DepthwiseConv2D)  (None, 112, 112, 32)      288       \n",
            "_________________________________________________________________\n",
            "conv_dw_1_bn (BatchNormaliza (None, 112, 112, 32)      128       \n",
            "_________________________________________________________________\n",
            "conv_dw_1_relu (ReLU)        (None, 112, 112, 32)      0         \n",
            "_________________________________________________________________\n",
            "conv_pw_1 (Conv2D)           (None, 112, 112, 64)      2048      \n",
            "_________________________________________________________________\n",
            "conv_pw_1_bn (BatchNormaliza (None, 112, 112, 64)      256       \n",
            "_________________________________________________________________\n",
            "conv_pw_1_relu (ReLU)        (None, 112, 112, 64)      0         \n",
            "_________________________________________________________________\n",
            "conv_pad_2 (ZeroPadding2D)   (None, 113, 113, 64)      0         \n",
            "_________________________________________________________________\n",
            "conv_dw_2 (DepthwiseConv2D)  (None, 56, 56, 64)        576       \n",
            "_________________________________________________________________\n",
            "conv_dw_2_bn (BatchNormaliza (None, 56, 56, 64)        256       \n",
            "_________________________________________________________________\n",
            "conv_dw_2_relu (ReLU)        (None, 56, 56, 64)        0         \n",
            "_________________________________________________________________\n",
            "conv_pw_2 (Conv2D)           (None, 56, 56, 128)       8192      \n",
            "_________________________________________________________________\n",
            "conv_pw_2_bn (BatchNormaliza (None, 56, 56, 128)       512       \n",
            "_________________________________________________________________\n",
            "conv_pw_2_relu (ReLU)        (None, 56, 56, 128)       0         \n",
            "_________________________________________________________________\n",
            "conv_dw_3 (DepthwiseConv2D)  (None, 56, 56, 128)       1152      \n",
            "_________________________________________________________________\n",
            "conv_dw_3_bn (BatchNormaliza (None, 56, 56, 128)       512       \n",
            "_________________________________________________________________\n",
            "conv_dw_3_relu (ReLU)        (None, 56, 56, 128)       0         \n",
            "_________________________________________________________________\n",
            "conv_pw_3 (Conv2D)           (None, 56, 56, 128)       16384     \n",
            "_________________________________________________________________\n",
            "conv_pw_3_bn (BatchNormaliza (None, 56, 56, 128)       512       \n",
            "_________________________________________________________________\n",
            "conv_pw_3_relu (ReLU)        (None, 56, 56, 128)       0         \n",
            "_________________________________________________________________\n",
            "conv_pad_4 (ZeroPadding2D)   (None, 57, 57, 128)       0         \n",
            "_________________________________________________________________\n",
            "conv_dw_4 (DepthwiseConv2D)  (None, 28, 28, 128)       1152      \n",
            "_________________________________________________________________\n",
            "conv_dw_4_bn (BatchNormaliza (None, 28, 28, 128)       512       \n",
            "_________________________________________________________________\n",
            "conv_dw_4_relu (ReLU)        (None, 28, 28, 128)       0         \n",
            "_________________________________________________________________\n",
            "conv_pw_4 (Conv2D)           (None, 28, 28, 256)       32768     \n",
            "_________________________________________________________________\n",
            "conv_pw_4_bn (BatchNormaliza (None, 28, 28, 256)       1024      \n",
            "_________________________________________________________________\n",
            "conv_pw_4_relu (ReLU)        (None, 28, 28, 256)       0         \n",
            "_________________________________________________________________\n",
            "conv_dw_5 (DepthwiseConv2D)  (None, 28, 28, 256)       2304      \n",
            "_________________________________________________________________\n",
            "conv_dw_5_bn (BatchNormaliza (None, 28, 28, 256)       1024      \n",
            "_________________________________________________________________\n",
            "conv_dw_5_relu (ReLU)        (None, 28, 28, 256)       0         \n",
            "_________________________________________________________________\n",
            "conv_pw_5 (Conv2D)           (None, 28, 28, 256)       65536     \n",
            "_________________________________________________________________\n",
            "conv_pw_5_bn (BatchNormaliza (None, 28, 28, 256)       1024      \n",
            "_________________________________________________________________\n",
            "conv_pw_5_relu (ReLU)        (None, 28, 28, 256)       0         \n",
            "_________________________________________________________________\n",
            "conv_pad_6 (ZeroPadding2D)   (None, 29, 29, 256)       0         \n",
            "_________________________________________________________________\n",
            "conv_dw_6 (DepthwiseConv2D)  (None, 14, 14, 256)       2304      \n",
            "_________________________________________________________________\n",
            "conv_dw_6_bn (BatchNormaliza (None, 14, 14, 256)       1024      \n",
            "_________________________________________________________________\n",
            "conv_dw_6_relu (ReLU)        (None, 14, 14, 256)       0         \n",
            "_________________________________________________________________\n",
            "conv_pw_6 (Conv2D)           (None, 14, 14, 512)       131072    \n",
            "_________________________________________________________________\n",
            "conv_pw_6_bn (BatchNormaliza (None, 14, 14, 512)       2048      \n",
            "_________________________________________________________________\n",
            "conv_pw_6_relu (ReLU)        (None, 14, 14, 512)       0         \n",
            "_________________________________________________________________\n",
            "conv_dw_7 (DepthwiseConv2D)  (None, 14, 14, 512)       4608      \n",
            "_________________________________________________________________\n",
            "conv_dw_7_bn (BatchNormaliza (None, 14, 14, 512)       2048      \n",
            "_________________________________________________________________\n",
            "conv_dw_7_relu (ReLU)        (None, 14, 14, 512)       0         \n",
            "_________________________________________________________________\n",
            "conv_pw_7 (Conv2D)           (None, 14, 14, 512)       262144    \n",
            "_________________________________________________________________\n",
            "conv_pw_7_bn (BatchNormaliza (None, 14, 14, 512)       2048      \n",
            "_________________________________________________________________\n",
            "conv_pw_7_relu (ReLU)        (None, 14, 14, 512)       0         \n",
            "_________________________________________________________________\n",
            "conv_dw_8 (DepthwiseConv2D)  (None, 14, 14, 512)       4608      \n",
            "_________________________________________________________________\n",
            "conv_dw_8_bn (BatchNormaliza (None, 14, 14, 512)       2048      \n",
            "_________________________________________________________________\n",
            "conv_dw_8_relu (ReLU)        (None, 14, 14, 512)       0         \n",
            "_________________________________________________________________\n",
            "conv_pw_8 (Conv2D)           (None, 14, 14, 512)       262144    \n",
            "_________________________________________________________________\n",
            "conv_pw_8_bn (BatchNormaliza (None, 14, 14, 512)       2048      \n",
            "_________________________________________________________________\n",
            "conv_pw_8_relu (ReLU)        (None, 14, 14, 512)       0         \n",
            "_________________________________________________________________\n",
            "conv_dw_9 (DepthwiseConv2D)  (None, 14, 14, 512)       4608      \n",
            "_________________________________________________________________\n",
            "conv_dw_9_bn (BatchNormaliza (None, 14, 14, 512)       2048      \n",
            "_________________________________________________________________\n",
            "conv_dw_9_relu (ReLU)        (None, 14, 14, 512)       0         \n",
            "_________________________________________________________________\n",
            "conv_pw_9 (Conv2D)           (None, 14, 14, 512)       262144    \n",
            "_________________________________________________________________\n",
            "conv_pw_9_bn (BatchNormaliza (None, 14, 14, 512)       2048      \n",
            "_________________________________________________________________\n",
            "conv_pw_9_relu (ReLU)        (None, 14, 14, 512)       0         \n",
            "_________________________________________________________________\n",
            "conv_dw_10 (DepthwiseConv2D) (None, 14, 14, 512)       4608      \n",
            "_________________________________________________________________\n",
            "conv_dw_10_bn (BatchNormaliz (None, 14, 14, 512)       2048      \n",
            "_________________________________________________________________\n",
            "conv_dw_10_relu (ReLU)       (None, 14, 14, 512)       0         \n",
            "_________________________________________________________________\n",
            "conv_pw_10 (Conv2D)          (None, 14, 14, 512)       262144    \n",
            "_________________________________________________________________\n",
            "conv_pw_10_bn (BatchNormaliz (None, 14, 14, 512)       2048      \n",
            "_________________________________________________________________\n",
            "conv_pw_10_relu (ReLU)       (None, 14, 14, 512)       0         \n",
            "_________________________________________________________________\n",
            "conv_dw_11 (DepthwiseConv2D) (None, 14, 14, 512)       4608      \n",
            "_________________________________________________________________\n",
            "conv_dw_11_bn (BatchNormaliz (None, 14, 14, 512)       2048      \n",
            "_________________________________________________________________\n",
            "conv_dw_11_relu (ReLU)       (None, 14, 14, 512)       0         \n",
            "_________________________________________________________________\n",
            "conv_pw_11 (Conv2D)          (None, 14, 14, 512)       262144    \n",
            "_________________________________________________________________\n",
            "conv_pw_11_bn (BatchNormaliz (None, 14, 14, 512)       2048      \n",
            "_________________________________________________________________\n",
            "conv_pw_11_relu (ReLU)       (None, 14, 14, 512)       0         \n",
            "_________________________________________________________________\n",
            "conv_pad_12 (ZeroPadding2D)  (None, 15, 15, 512)       0         \n",
            "_________________________________________________________________\n",
            "conv_dw_12 (DepthwiseConv2D) (None, 7, 7, 512)         4608      \n",
            "_________________________________________________________________\n",
            "conv_dw_12_bn (BatchNormaliz (None, 7, 7, 512)         2048      \n",
            "_________________________________________________________________\n",
            "conv_dw_12_relu (ReLU)       (None, 7, 7, 512)         0         \n",
            "_________________________________________________________________\n",
            "conv_pw_12 (Conv2D)          (None, 7, 7, 1024)        524288    \n",
            "_________________________________________________________________\n",
            "conv_pw_12_bn (BatchNormaliz (None, 7, 7, 1024)        4096      \n",
            "_________________________________________________________________\n",
            "conv_pw_12_relu (ReLU)       (None, 7, 7, 1024)        0         \n",
            "_________________________________________________________________\n",
            "conv_dw_13 (DepthwiseConv2D) (None, 7, 7, 1024)        9216      \n",
            "_________________________________________________________________\n",
            "conv_dw_13_bn (BatchNormaliz (None, 7, 7, 1024)        4096      \n",
            "_________________________________________________________________\n",
            "conv_dw_13_relu (ReLU)       (None, 7, 7, 1024)        0         \n",
            "_________________________________________________________________\n",
            "conv_pw_13 (Conv2D)          (None, 7, 7, 1024)        1048576   \n",
            "_________________________________________________________________\n",
            "conv_pw_13_bn (BatchNormaliz (None, 7, 7, 1024)        4096      \n",
            "_________________________________________________________________\n",
            "conv_pw_13_relu (ReLU)       (None, 7, 7, 1024)        0         \n",
            "_________________________________________________________________\n",
            "global_average_pooling2d (Gl (None, 1024)              0         \n",
            "_________________________________________________________________\n",
            "reshape_1 (Reshape)          (None, 1, 1, 1024)        0         \n",
            "_________________________________________________________________\n",
            "dropout (Dropout)            (None, 1, 1, 1024)        0         \n",
            "_________________________________________________________________\n",
            "conv_preds (Conv2D)          (None, 1, 1, 1000)        1025000   \n",
            "_________________________________________________________________\n",
            "reshape_2 (Reshape)          (None, 1000)              0         \n",
            "_________________________________________________________________\n",
            "predictions (Activation)     (None, 1000)              0         \n",
            "=================================================================\n",
            "Total params: 4,253,864\n",
            "Trainable params: 4,231,976\n",
            "Non-trainable params: 21,888\n",
            "_________________________________________________________________\n"
          ],
          "name": "stdout"
        }
      ]
    },
    {
      "cell_type": "code",
      "metadata": {
        "id": "00fHVT59xoh2",
        "colab_type": "code",
        "colab": {}
      },
      "source": [
        "x = mobile.layers[-6].output\n",
        "predictions = Dense(4, activation='softmax')(x)"
      ],
      "execution_count": 17,
      "outputs": []
    },
    {
      "cell_type": "markdown",
      "metadata": {
        "id": "pZqQxd9LE3P_",
        "colab_type": "text"
      },
      "source": [
        "#### Total trainable parameters is decreased from the original MobileNet 4.2 million to about 2.67 million parameters in succession."
      ]
    },
    {
      "cell_type": "code",
      "metadata": {
        "id": "SC6gltUAyHkc",
        "colab_type": "code",
        "colab": {}
      },
      "source": [
        "model = Model(inputs=mobile.input, outputs=predictions)"
      ],
      "execution_count": 18,
      "outputs": []
    },
    {
      "cell_type": "code",
      "metadata": {
        "id": "OKYMdKl0yO7A",
        "colab_type": "code",
        "colab": {
          "base_uri": "https://localhost:8080/",
          "height": 1000
        },
        "outputId": "adccd108-3001-4ea1-8bcf-e771cd0be8b8"
      },
      "source": [
        "model.summary()"
      ],
      "execution_count": 19,
      "outputs": [
        {
          "output_type": "stream",
          "text": [
            "Model: \"functional_1\"\n",
            "_________________________________________________________________\n",
            "Layer (type)                 Output Shape              Param #   \n",
            "=================================================================\n",
            "input_1 (InputLayer)         [(None, 224, 224, 3)]     0         \n",
            "_________________________________________________________________\n",
            "conv1_pad (ZeroPadding2D)    (None, 225, 225, 3)       0         \n",
            "_________________________________________________________________\n",
            "conv1 (Conv2D)               (None, 112, 112, 32)      864       \n",
            "_________________________________________________________________\n",
            "conv1_bn (BatchNormalization (None, 112, 112, 32)      128       \n",
            "_________________________________________________________________\n",
            "conv1_relu (ReLU)            (None, 112, 112, 32)      0         \n",
            "_________________________________________________________________\n",
            "conv_dw_1 (DepthwiseConv2D)  (None, 112, 112, 32)      288       \n",
            "_________________________________________________________________\n",
            "conv_dw_1_bn (BatchNormaliza (None, 112, 112, 32)      128       \n",
            "_________________________________________________________________\n",
            "conv_dw_1_relu (ReLU)        (None, 112, 112, 32)      0         \n",
            "_________________________________________________________________\n",
            "conv_pw_1 (Conv2D)           (None, 112, 112, 64)      2048      \n",
            "_________________________________________________________________\n",
            "conv_pw_1_bn (BatchNormaliza (None, 112, 112, 64)      256       \n",
            "_________________________________________________________________\n",
            "conv_pw_1_relu (ReLU)        (None, 112, 112, 64)      0         \n",
            "_________________________________________________________________\n",
            "conv_pad_2 (ZeroPadding2D)   (None, 113, 113, 64)      0         \n",
            "_________________________________________________________________\n",
            "conv_dw_2 (DepthwiseConv2D)  (None, 56, 56, 64)        576       \n",
            "_________________________________________________________________\n",
            "conv_dw_2_bn (BatchNormaliza (None, 56, 56, 64)        256       \n",
            "_________________________________________________________________\n",
            "conv_dw_2_relu (ReLU)        (None, 56, 56, 64)        0         \n",
            "_________________________________________________________________\n",
            "conv_pw_2 (Conv2D)           (None, 56, 56, 128)       8192      \n",
            "_________________________________________________________________\n",
            "conv_pw_2_bn (BatchNormaliza (None, 56, 56, 128)       512       \n",
            "_________________________________________________________________\n",
            "conv_pw_2_relu (ReLU)        (None, 56, 56, 128)       0         \n",
            "_________________________________________________________________\n",
            "conv_dw_3 (DepthwiseConv2D)  (None, 56, 56, 128)       1152      \n",
            "_________________________________________________________________\n",
            "conv_dw_3_bn (BatchNormaliza (None, 56, 56, 128)       512       \n",
            "_________________________________________________________________\n",
            "conv_dw_3_relu (ReLU)        (None, 56, 56, 128)       0         \n",
            "_________________________________________________________________\n",
            "conv_pw_3 (Conv2D)           (None, 56, 56, 128)       16384     \n",
            "_________________________________________________________________\n",
            "conv_pw_3_bn (BatchNormaliza (None, 56, 56, 128)       512       \n",
            "_________________________________________________________________\n",
            "conv_pw_3_relu (ReLU)        (None, 56, 56, 128)       0         \n",
            "_________________________________________________________________\n",
            "conv_pad_4 (ZeroPadding2D)   (None, 57, 57, 128)       0         \n",
            "_________________________________________________________________\n",
            "conv_dw_4 (DepthwiseConv2D)  (None, 28, 28, 128)       1152      \n",
            "_________________________________________________________________\n",
            "conv_dw_4_bn (BatchNormaliza (None, 28, 28, 128)       512       \n",
            "_________________________________________________________________\n",
            "conv_dw_4_relu (ReLU)        (None, 28, 28, 128)       0         \n",
            "_________________________________________________________________\n",
            "conv_pw_4 (Conv2D)           (None, 28, 28, 256)       32768     \n",
            "_________________________________________________________________\n",
            "conv_pw_4_bn (BatchNormaliza (None, 28, 28, 256)       1024      \n",
            "_________________________________________________________________\n",
            "conv_pw_4_relu (ReLU)        (None, 28, 28, 256)       0         \n",
            "_________________________________________________________________\n",
            "conv_dw_5 (DepthwiseConv2D)  (None, 28, 28, 256)       2304      \n",
            "_________________________________________________________________\n",
            "conv_dw_5_bn (BatchNormaliza (None, 28, 28, 256)       1024      \n",
            "_________________________________________________________________\n",
            "conv_dw_5_relu (ReLU)        (None, 28, 28, 256)       0         \n",
            "_________________________________________________________________\n",
            "conv_pw_5 (Conv2D)           (None, 28, 28, 256)       65536     \n",
            "_________________________________________________________________\n",
            "conv_pw_5_bn (BatchNormaliza (None, 28, 28, 256)       1024      \n",
            "_________________________________________________________________\n",
            "conv_pw_5_relu (ReLU)        (None, 28, 28, 256)       0         \n",
            "_________________________________________________________________\n",
            "conv_pad_6 (ZeroPadding2D)   (None, 29, 29, 256)       0         \n",
            "_________________________________________________________________\n",
            "conv_dw_6 (DepthwiseConv2D)  (None, 14, 14, 256)       2304      \n",
            "_________________________________________________________________\n",
            "conv_dw_6_bn (BatchNormaliza (None, 14, 14, 256)       1024      \n",
            "_________________________________________________________________\n",
            "conv_dw_6_relu (ReLU)        (None, 14, 14, 256)       0         \n",
            "_________________________________________________________________\n",
            "conv_pw_6 (Conv2D)           (None, 14, 14, 512)       131072    \n",
            "_________________________________________________________________\n",
            "conv_pw_6_bn (BatchNormaliza (None, 14, 14, 512)       2048      \n",
            "_________________________________________________________________\n",
            "conv_pw_6_relu (ReLU)        (None, 14, 14, 512)       0         \n",
            "_________________________________________________________________\n",
            "conv_dw_7 (DepthwiseConv2D)  (None, 14, 14, 512)       4608      \n",
            "_________________________________________________________________\n",
            "conv_dw_7_bn (BatchNormaliza (None, 14, 14, 512)       2048      \n",
            "_________________________________________________________________\n",
            "conv_dw_7_relu (ReLU)        (None, 14, 14, 512)       0         \n",
            "_________________________________________________________________\n",
            "conv_pw_7 (Conv2D)           (None, 14, 14, 512)       262144    \n",
            "_________________________________________________________________\n",
            "conv_pw_7_bn (BatchNormaliza (None, 14, 14, 512)       2048      \n",
            "_________________________________________________________________\n",
            "conv_pw_7_relu (ReLU)        (None, 14, 14, 512)       0         \n",
            "_________________________________________________________________\n",
            "conv_dw_8 (DepthwiseConv2D)  (None, 14, 14, 512)       4608      \n",
            "_________________________________________________________________\n",
            "conv_dw_8_bn (BatchNormaliza (None, 14, 14, 512)       2048      \n",
            "_________________________________________________________________\n",
            "conv_dw_8_relu (ReLU)        (None, 14, 14, 512)       0         \n",
            "_________________________________________________________________\n",
            "conv_pw_8 (Conv2D)           (None, 14, 14, 512)       262144    \n",
            "_________________________________________________________________\n",
            "conv_pw_8_bn (BatchNormaliza (None, 14, 14, 512)       2048      \n",
            "_________________________________________________________________\n",
            "conv_pw_8_relu (ReLU)        (None, 14, 14, 512)       0         \n",
            "_________________________________________________________________\n",
            "conv_dw_9 (DepthwiseConv2D)  (None, 14, 14, 512)       4608      \n",
            "_________________________________________________________________\n",
            "conv_dw_9_bn (BatchNormaliza (None, 14, 14, 512)       2048      \n",
            "_________________________________________________________________\n",
            "conv_dw_9_relu (ReLU)        (None, 14, 14, 512)       0         \n",
            "_________________________________________________________________\n",
            "conv_pw_9 (Conv2D)           (None, 14, 14, 512)       262144    \n",
            "_________________________________________________________________\n",
            "conv_pw_9_bn (BatchNormaliza (None, 14, 14, 512)       2048      \n",
            "_________________________________________________________________\n",
            "conv_pw_9_relu (ReLU)        (None, 14, 14, 512)       0         \n",
            "_________________________________________________________________\n",
            "conv_dw_10 (DepthwiseConv2D) (None, 14, 14, 512)       4608      \n",
            "_________________________________________________________________\n",
            "conv_dw_10_bn (BatchNormaliz (None, 14, 14, 512)       2048      \n",
            "_________________________________________________________________\n",
            "conv_dw_10_relu (ReLU)       (None, 14, 14, 512)       0         \n",
            "_________________________________________________________________\n",
            "conv_pw_10 (Conv2D)          (None, 14, 14, 512)       262144    \n",
            "_________________________________________________________________\n",
            "conv_pw_10_bn (BatchNormaliz (None, 14, 14, 512)       2048      \n",
            "_________________________________________________________________\n",
            "conv_pw_10_relu (ReLU)       (None, 14, 14, 512)       0         \n",
            "_________________________________________________________________\n",
            "conv_dw_11 (DepthwiseConv2D) (None, 14, 14, 512)       4608      \n",
            "_________________________________________________________________\n",
            "conv_dw_11_bn (BatchNormaliz (None, 14, 14, 512)       2048      \n",
            "_________________________________________________________________\n",
            "conv_dw_11_relu (ReLU)       (None, 14, 14, 512)       0         \n",
            "_________________________________________________________________\n",
            "conv_pw_11 (Conv2D)          (None, 14, 14, 512)       262144    \n",
            "_________________________________________________________________\n",
            "conv_pw_11_bn (BatchNormaliz (None, 14, 14, 512)       2048      \n",
            "_________________________________________________________________\n",
            "conv_pw_11_relu (ReLU)       (None, 14, 14, 512)       0         \n",
            "_________________________________________________________________\n",
            "conv_pad_12 (ZeroPadding2D)  (None, 15, 15, 512)       0         \n",
            "_________________________________________________________________\n",
            "conv_dw_12 (DepthwiseConv2D) (None, 7, 7, 512)         4608      \n",
            "_________________________________________________________________\n",
            "conv_dw_12_bn (BatchNormaliz (None, 7, 7, 512)         2048      \n",
            "_________________________________________________________________\n",
            "conv_dw_12_relu (ReLU)       (None, 7, 7, 512)         0         \n",
            "_________________________________________________________________\n",
            "conv_pw_12 (Conv2D)          (None, 7, 7, 1024)        524288    \n",
            "_________________________________________________________________\n",
            "conv_pw_12_bn (BatchNormaliz (None, 7, 7, 1024)        4096      \n",
            "_________________________________________________________________\n",
            "conv_pw_12_relu (ReLU)       (None, 7, 7, 1024)        0         \n",
            "_________________________________________________________________\n",
            "conv_dw_13 (DepthwiseConv2D) (None, 7, 7, 1024)        9216      \n",
            "_________________________________________________________________\n",
            "conv_dw_13_bn (BatchNormaliz (None, 7, 7, 1024)        4096      \n",
            "_________________________________________________________________\n",
            "conv_dw_13_relu (ReLU)       (None, 7, 7, 1024)        0         \n",
            "_________________________________________________________________\n",
            "conv_pw_13 (Conv2D)          (None, 7, 7, 1024)        1048576   \n",
            "_________________________________________________________________\n",
            "conv_pw_13_bn (BatchNormaliz (None, 7, 7, 1024)        4096      \n",
            "_________________________________________________________________\n",
            "conv_pw_13_relu (ReLU)       (None, 7, 7, 1024)        0         \n",
            "_________________________________________________________________\n",
            "global_average_pooling2d (Gl (None, 1024)              0         \n",
            "_________________________________________________________________\n",
            "dense (Dense)                (None, 4)                 4100      \n",
            "=================================================================\n",
            "Total params: 3,232,964\n",
            "Trainable params: 3,211,076\n",
            "Non-trainable params: 21,888\n",
            "_________________________________________________________________\n"
          ],
          "name": "stdout"
        }
      ]
    },
    {
      "cell_type": "code",
      "metadata": {
        "id": "tTYgvtoDyVEz",
        "colab_type": "code",
        "colab": {}
      },
      "source": [
        "for layer in model.layers[:-36]:\n",
        "  layer.trainable = False"
      ],
      "execution_count": 20,
      "outputs": []
    },
    {
      "cell_type": "code",
      "metadata": {
        "id": "6ez0QK49EGwF",
        "colab_type": "code",
        "colab": {
          "base_uri": "https://localhost:8080/",
          "height": 1000
        },
        "outputId": "e9b683b4-f9d5-4f18-cdac-6efbd5ff34b1"
      },
      "source": [
        "model.summary()"
      ],
      "execution_count": 69,
      "outputs": [
        {
          "output_type": "stream",
          "text": [
            "Model: \"functional_1\"\n",
            "_________________________________________________________________\n",
            "Layer (type)                 Output Shape              Param #   \n",
            "=================================================================\n",
            "input_1 (InputLayer)         [(None, 224, 224, 3)]     0         \n",
            "_________________________________________________________________\n",
            "conv1_pad (ZeroPadding2D)    (None, 225, 225, 3)       0         \n",
            "_________________________________________________________________\n",
            "conv1 (Conv2D)               (None, 112, 112, 32)      864       \n",
            "_________________________________________________________________\n",
            "conv1_bn (BatchNormalization (None, 112, 112, 32)      128       \n",
            "_________________________________________________________________\n",
            "conv1_relu (ReLU)            (None, 112, 112, 32)      0         \n",
            "_________________________________________________________________\n",
            "conv_dw_1 (DepthwiseConv2D)  (None, 112, 112, 32)      288       \n",
            "_________________________________________________________________\n",
            "conv_dw_1_bn (BatchNormaliza (None, 112, 112, 32)      128       \n",
            "_________________________________________________________________\n",
            "conv_dw_1_relu (ReLU)        (None, 112, 112, 32)      0         \n",
            "_________________________________________________________________\n",
            "conv_pw_1 (Conv2D)           (None, 112, 112, 64)      2048      \n",
            "_________________________________________________________________\n",
            "conv_pw_1_bn (BatchNormaliza (None, 112, 112, 64)      256       \n",
            "_________________________________________________________________\n",
            "conv_pw_1_relu (ReLU)        (None, 112, 112, 64)      0         \n",
            "_________________________________________________________________\n",
            "conv_pad_2 (ZeroPadding2D)   (None, 113, 113, 64)      0         \n",
            "_________________________________________________________________\n",
            "conv_dw_2 (DepthwiseConv2D)  (None, 56, 56, 64)        576       \n",
            "_________________________________________________________________\n",
            "conv_dw_2_bn (BatchNormaliza (None, 56, 56, 64)        256       \n",
            "_________________________________________________________________\n",
            "conv_dw_2_relu (ReLU)        (None, 56, 56, 64)        0         \n",
            "_________________________________________________________________\n",
            "conv_pw_2 (Conv2D)           (None, 56, 56, 128)       8192      \n",
            "_________________________________________________________________\n",
            "conv_pw_2_bn (BatchNormaliza (None, 56, 56, 128)       512       \n",
            "_________________________________________________________________\n",
            "conv_pw_2_relu (ReLU)        (None, 56, 56, 128)       0         \n",
            "_________________________________________________________________\n",
            "conv_dw_3 (DepthwiseConv2D)  (None, 56, 56, 128)       1152      \n",
            "_________________________________________________________________\n",
            "conv_dw_3_bn (BatchNormaliza (None, 56, 56, 128)       512       \n",
            "_________________________________________________________________\n",
            "conv_dw_3_relu (ReLU)        (None, 56, 56, 128)       0         \n",
            "_________________________________________________________________\n",
            "conv_pw_3 (Conv2D)           (None, 56, 56, 128)       16384     \n",
            "_________________________________________________________________\n",
            "conv_pw_3_bn (BatchNormaliza (None, 56, 56, 128)       512       \n",
            "_________________________________________________________________\n",
            "conv_pw_3_relu (ReLU)        (None, 56, 56, 128)       0         \n",
            "_________________________________________________________________\n",
            "conv_pad_4 (ZeroPadding2D)   (None, 57, 57, 128)       0         \n",
            "_________________________________________________________________\n",
            "conv_dw_4 (DepthwiseConv2D)  (None, 28, 28, 128)       1152      \n",
            "_________________________________________________________________\n",
            "conv_dw_4_bn (BatchNormaliza (None, 28, 28, 128)       512       \n",
            "_________________________________________________________________\n",
            "conv_dw_4_relu (ReLU)        (None, 28, 28, 128)       0         \n",
            "_________________________________________________________________\n",
            "conv_pw_4 (Conv2D)           (None, 28, 28, 256)       32768     \n",
            "_________________________________________________________________\n",
            "conv_pw_4_bn (BatchNormaliza (None, 28, 28, 256)       1024      \n",
            "_________________________________________________________________\n",
            "conv_pw_4_relu (ReLU)        (None, 28, 28, 256)       0         \n",
            "_________________________________________________________________\n",
            "conv_dw_5 (DepthwiseConv2D)  (None, 28, 28, 256)       2304      \n",
            "_________________________________________________________________\n",
            "conv_dw_5_bn (BatchNormaliza (None, 28, 28, 256)       1024      \n",
            "_________________________________________________________________\n",
            "conv_dw_5_relu (ReLU)        (None, 28, 28, 256)       0         \n",
            "_________________________________________________________________\n",
            "conv_pw_5 (Conv2D)           (None, 28, 28, 256)       65536     \n",
            "_________________________________________________________________\n",
            "conv_pw_5_bn (BatchNormaliza (None, 28, 28, 256)       1024      \n",
            "_________________________________________________________________\n",
            "conv_pw_5_relu (ReLU)        (None, 28, 28, 256)       0         \n",
            "_________________________________________________________________\n",
            "conv_pad_6 (ZeroPadding2D)   (None, 29, 29, 256)       0         \n",
            "_________________________________________________________________\n",
            "conv_dw_6 (DepthwiseConv2D)  (None, 14, 14, 256)       2304      \n",
            "_________________________________________________________________\n",
            "conv_dw_6_bn (BatchNormaliza (None, 14, 14, 256)       1024      \n",
            "_________________________________________________________________\n",
            "conv_dw_6_relu (ReLU)        (None, 14, 14, 256)       0         \n",
            "_________________________________________________________________\n",
            "conv_pw_6 (Conv2D)           (None, 14, 14, 512)       131072    \n",
            "_________________________________________________________________\n",
            "conv_pw_6_bn (BatchNormaliza (None, 14, 14, 512)       2048      \n",
            "_________________________________________________________________\n",
            "conv_pw_6_relu (ReLU)        (None, 14, 14, 512)       0         \n",
            "_________________________________________________________________\n",
            "conv_dw_7 (DepthwiseConv2D)  (None, 14, 14, 512)       4608      \n",
            "_________________________________________________________________\n",
            "conv_dw_7_bn (BatchNormaliza (None, 14, 14, 512)       2048      \n",
            "_________________________________________________________________\n",
            "conv_dw_7_relu (ReLU)        (None, 14, 14, 512)       0         \n",
            "_________________________________________________________________\n",
            "conv_pw_7 (Conv2D)           (None, 14, 14, 512)       262144    \n",
            "_________________________________________________________________\n",
            "conv_pw_7_bn (BatchNormaliza (None, 14, 14, 512)       2048      \n",
            "_________________________________________________________________\n",
            "conv_pw_7_relu (ReLU)        (None, 14, 14, 512)       0         \n",
            "_________________________________________________________________\n",
            "conv_dw_8 (DepthwiseConv2D)  (None, 14, 14, 512)       4608      \n",
            "_________________________________________________________________\n",
            "conv_dw_8_bn (BatchNormaliza (None, 14, 14, 512)       2048      \n",
            "_________________________________________________________________\n",
            "conv_dw_8_relu (ReLU)        (None, 14, 14, 512)       0         \n",
            "_________________________________________________________________\n",
            "conv_pw_8 (Conv2D)           (None, 14, 14, 512)       262144    \n",
            "_________________________________________________________________\n",
            "conv_pw_8_bn (BatchNormaliza (None, 14, 14, 512)       2048      \n",
            "_________________________________________________________________\n",
            "conv_pw_8_relu (ReLU)        (None, 14, 14, 512)       0         \n",
            "_________________________________________________________________\n",
            "conv_dw_9 (DepthwiseConv2D)  (None, 14, 14, 512)       4608      \n",
            "_________________________________________________________________\n",
            "conv_dw_9_bn (BatchNormaliza (None, 14, 14, 512)       2048      \n",
            "_________________________________________________________________\n",
            "conv_dw_9_relu (ReLU)        (None, 14, 14, 512)       0         \n",
            "_________________________________________________________________\n",
            "conv_pw_9 (Conv2D)           (None, 14, 14, 512)       262144    \n",
            "_________________________________________________________________\n",
            "conv_pw_9_bn (BatchNormaliza (None, 14, 14, 512)       2048      \n",
            "_________________________________________________________________\n",
            "conv_pw_9_relu (ReLU)        (None, 14, 14, 512)       0         \n",
            "_________________________________________________________________\n",
            "conv_dw_10 (DepthwiseConv2D) (None, 14, 14, 512)       4608      \n",
            "_________________________________________________________________\n",
            "conv_dw_10_bn (BatchNormaliz (None, 14, 14, 512)       2048      \n",
            "_________________________________________________________________\n",
            "conv_dw_10_relu (ReLU)       (None, 14, 14, 512)       0         \n",
            "_________________________________________________________________\n",
            "conv_pw_10 (Conv2D)          (None, 14, 14, 512)       262144    \n",
            "_________________________________________________________________\n",
            "conv_pw_10_bn (BatchNormaliz (None, 14, 14, 512)       2048      \n",
            "_________________________________________________________________\n",
            "conv_pw_10_relu (ReLU)       (None, 14, 14, 512)       0         \n",
            "_________________________________________________________________\n",
            "conv_dw_11 (DepthwiseConv2D) (None, 14, 14, 512)       4608      \n",
            "_________________________________________________________________\n",
            "conv_dw_11_bn (BatchNormaliz (None, 14, 14, 512)       2048      \n",
            "_________________________________________________________________\n",
            "conv_dw_11_relu (ReLU)       (None, 14, 14, 512)       0         \n",
            "_________________________________________________________________\n",
            "conv_pw_11 (Conv2D)          (None, 14, 14, 512)       262144    \n",
            "_________________________________________________________________\n",
            "conv_pw_11_bn (BatchNormaliz (None, 14, 14, 512)       2048      \n",
            "_________________________________________________________________\n",
            "conv_pw_11_relu (ReLU)       (None, 14, 14, 512)       0         \n",
            "_________________________________________________________________\n",
            "conv_pad_12 (ZeroPadding2D)  (None, 15, 15, 512)       0         \n",
            "_________________________________________________________________\n",
            "conv_dw_12 (DepthwiseConv2D) (None, 7, 7, 512)         4608      \n",
            "_________________________________________________________________\n",
            "conv_dw_12_bn (BatchNormaliz (None, 7, 7, 512)         2048      \n",
            "_________________________________________________________________\n",
            "conv_dw_12_relu (ReLU)       (None, 7, 7, 512)         0         \n",
            "_________________________________________________________________\n",
            "conv_pw_12 (Conv2D)          (None, 7, 7, 1024)        524288    \n",
            "_________________________________________________________________\n",
            "conv_pw_12_bn (BatchNormaliz (None, 7, 7, 1024)        4096      \n",
            "_________________________________________________________________\n",
            "conv_pw_12_relu (ReLU)       (None, 7, 7, 1024)        0         \n",
            "_________________________________________________________________\n",
            "conv_dw_13 (DepthwiseConv2D) (None, 7, 7, 1024)        9216      \n",
            "_________________________________________________________________\n",
            "conv_dw_13_bn (BatchNormaliz (None, 7, 7, 1024)        4096      \n",
            "_________________________________________________________________\n",
            "conv_dw_13_relu (ReLU)       (None, 7, 7, 1024)        0         \n",
            "_________________________________________________________________\n",
            "conv_pw_13 (Conv2D)          (None, 7, 7, 1024)        1048576   \n",
            "_________________________________________________________________\n",
            "conv_pw_13_bn (BatchNormaliz (None, 7, 7, 1024)        4096      \n",
            "_________________________________________________________________\n",
            "conv_pw_13_relu (ReLU)       (None, 7, 7, 1024)        0         \n",
            "_________________________________________________________________\n",
            "global_average_pooling2d (Gl (None, 1024)              0         \n",
            "_________________________________________________________________\n",
            "dense (Dense)                (None, 4)                 4100      \n",
            "=================================================================\n",
            "Total params: 3,232,964\n",
            "Trainable params: 2,667,524\n",
            "Non-trainable params: 565,440\n",
            "_________________________________________________________________\n"
          ],
          "name": "stdout"
        }
      ]
    },
    {
      "cell_type": "code",
      "metadata": {
        "id": "mC4kfvV6ymYg",
        "colab_type": "code",
        "colab": {}
      },
      "source": [
        "model.compile(optimizer=Adam(learning_rate=0.00005), loss='categorical_crossentropy', metrics=['accuracy'])"
      ],
      "execution_count": 21,
      "outputs": []
    },
    {
      "cell_type": "markdown",
      "metadata": {
        "id": "fOkzVyFxEi3H",
        "colab_type": "text"
      },
      "source": [
        "#### Training the model with 90 epochs seems like an overkill but the training set is limited as well."
      ]
    },
    {
      "cell_type": "code",
      "metadata": {
        "id": "fNCppxV1yzl3",
        "colab_type": "code",
        "colab": {
          "base_uri": "https://localhost:8080/",
          "height": 1000
        },
        "outputId": "fd88311e-51cc-4458-c4bb-fea5dcf0daf6"
      },
      "source": [
        "model.fit(x=train_batches, steps_per_epoch=len(train_batches), validation_data=valid_batches, validation_steps=len(valid_batches), epochs=90, verbose=2)"
      ],
      "execution_count": 22,
      "outputs": [
        {
          "output_type": "stream",
          "text": [
            "Epoch 1/90\n",
            "48/48 - 183s - loss: 0.8187 - accuracy: 0.6875 - val_loss: 0.5163 - val_accuracy: 0.8167\n",
            "Epoch 2/90\n",
            "48/48 - 6s - loss: 0.2213 - accuracy: 0.9187 - val_loss: 0.1854 - val_accuracy: 0.9583\n",
            "Epoch 3/90\n",
            "48/48 - 6s - loss: 0.1165 - accuracy: 0.9812 - val_loss: 0.1700 - val_accuracy: 0.9417\n",
            "Epoch 4/90\n",
            "48/48 - 6s - loss: 0.0914 - accuracy: 0.9812 - val_loss: 0.1248 - val_accuracy: 0.9833\n",
            "Epoch 5/90\n",
            "48/48 - 6s - loss: 0.0563 - accuracy: 0.9937 - val_loss: 0.1135 - val_accuracy: 0.9833\n",
            "Epoch 6/90\n",
            "48/48 - 6s - loss: 0.0338 - accuracy: 0.9979 - val_loss: 0.1039 - val_accuracy: 0.9833\n",
            "Epoch 7/90\n",
            "48/48 - 6s - loss: 0.0238 - accuracy: 1.0000 - val_loss: 0.0983 - val_accuracy: 0.9833\n",
            "Epoch 8/90\n",
            "48/48 - 6s - loss: 0.0257 - accuracy: 0.9979 - val_loss: 0.0928 - val_accuracy: 0.9833\n",
            "Epoch 9/90\n",
            "48/48 - 6s - loss: 0.0147 - accuracy: 1.0000 - val_loss: 0.0931 - val_accuracy: 0.9833\n",
            "Epoch 10/90\n",
            "48/48 - 6s - loss: 0.0319 - accuracy: 0.9937 - val_loss: 0.0948 - val_accuracy: 0.9667\n",
            "Epoch 11/90\n",
            "48/48 - 6s - loss: 0.0196 - accuracy: 0.9979 - val_loss: 0.0964 - val_accuracy: 0.9750\n",
            "Epoch 12/90\n",
            "48/48 - 6s - loss: 0.0147 - accuracy: 1.0000 - val_loss: 0.0806 - val_accuracy: 0.9750\n",
            "Epoch 13/90\n",
            "48/48 - 6s - loss: 0.0149 - accuracy: 1.0000 - val_loss: 0.0904 - val_accuracy: 0.9750\n",
            "Epoch 14/90\n",
            "48/48 - 6s - loss: 0.0268 - accuracy: 0.9937 - val_loss: 0.1093 - val_accuracy: 0.9833\n",
            "Epoch 15/90\n",
            "48/48 - 6s - loss: 0.0117 - accuracy: 1.0000 - val_loss: 0.1113 - val_accuracy: 0.9833\n",
            "Epoch 16/90\n",
            "48/48 - 6s - loss: 0.0097 - accuracy: 1.0000 - val_loss: 0.0960 - val_accuracy: 0.9750\n",
            "Epoch 17/90\n",
            "48/48 - 6s - loss: 0.0063 - accuracy: 1.0000 - val_loss: 0.0941 - val_accuracy: 0.9750\n",
            "Epoch 18/90\n",
            "48/48 - 6s - loss: 0.0084 - accuracy: 1.0000 - val_loss: 0.0989 - val_accuracy: 0.9750\n",
            "Epoch 19/90\n",
            "48/48 - 6s - loss: 0.0050 - accuracy: 1.0000 - val_loss: 0.0981 - val_accuracy: 0.9750\n",
            "Epoch 20/90\n",
            "48/48 - 6s - loss: 0.0116 - accuracy: 1.0000 - val_loss: 0.0795 - val_accuracy: 0.9750\n",
            "Epoch 21/90\n",
            "48/48 - 7s - loss: 0.0067 - accuracy: 1.0000 - val_loss: 0.0848 - val_accuracy: 0.9750\n",
            "Epoch 22/90\n",
            "48/48 - 6s - loss: 0.0091 - accuracy: 1.0000 - val_loss: 0.0906 - val_accuracy: 0.9750\n",
            "Epoch 23/90\n",
            "48/48 - 7s - loss: 0.0091 - accuracy: 1.0000 - val_loss: 0.1035 - val_accuracy: 0.9750\n",
            "Epoch 24/90\n",
            "48/48 - 6s - loss: 0.0048 - accuracy: 1.0000 - val_loss: 0.1099 - val_accuracy: 0.9833\n",
            "Epoch 25/90\n",
            "48/48 - 6s - loss: 0.0058 - accuracy: 1.0000 - val_loss: 0.1109 - val_accuracy: 0.9833\n",
            "Epoch 26/90\n",
            "48/48 - 7s - loss: 0.0081 - accuracy: 1.0000 - val_loss: 0.1163 - val_accuracy: 0.9833\n",
            "Epoch 27/90\n",
            "48/48 - 7s - loss: 0.0072 - accuracy: 1.0000 - val_loss: 0.0998 - val_accuracy: 0.9750\n",
            "Epoch 28/90\n",
            "48/48 - 7s - loss: 0.0026 - accuracy: 1.0000 - val_loss: 0.1004 - val_accuracy: 0.9750\n",
            "Epoch 29/90\n",
            "48/48 - 7s - loss: 0.0039 - accuracy: 1.0000 - val_loss: 0.0982 - val_accuracy: 0.9750\n",
            "Epoch 30/90\n",
            "48/48 - 6s - loss: 0.0062 - accuracy: 1.0000 - val_loss: 0.0969 - val_accuracy: 0.9750\n",
            "Epoch 31/90\n",
            "48/48 - 7s - loss: 0.0028 - accuracy: 1.0000 - val_loss: 0.0986 - val_accuracy: 0.9750\n",
            "Epoch 32/90\n",
            "48/48 - 7s - loss: 0.0036 - accuracy: 1.0000 - val_loss: 0.1027 - val_accuracy: 0.9750\n",
            "Epoch 33/90\n",
            "48/48 - 6s - loss: 0.0033 - accuracy: 1.0000 - val_loss: 0.1016 - val_accuracy: 0.9750\n",
            "Epoch 34/90\n",
            "48/48 - 6s - loss: 0.0050 - accuracy: 1.0000 - val_loss: 0.0843 - val_accuracy: 0.9750\n",
            "Epoch 35/90\n",
            "48/48 - 6s - loss: 0.0040 - accuracy: 1.0000 - val_loss: 0.0843 - val_accuracy: 0.9750\n",
            "Epoch 36/90\n",
            "48/48 - 6s - loss: 0.0034 - accuracy: 1.0000 - val_loss: 0.0953 - val_accuracy: 0.9750\n",
            "Epoch 37/90\n",
            "48/48 - 6s - loss: 0.0048 - accuracy: 1.0000 - val_loss: 0.0774 - val_accuracy: 0.9750\n",
            "Epoch 38/90\n",
            "48/48 - 6s - loss: 0.0044 - accuracy: 1.0000 - val_loss: 0.0819 - val_accuracy: 0.9750\n",
            "Epoch 39/90\n",
            "48/48 - 6s - loss: 0.0076 - accuracy: 0.9979 - val_loss: 0.0812 - val_accuracy: 0.9750\n",
            "Epoch 40/90\n",
            "48/48 - 6s - loss: 0.0016 - accuracy: 1.0000 - val_loss: 0.0895 - val_accuracy: 0.9750\n",
            "Epoch 41/90\n",
            "48/48 - 6s - loss: 0.0071 - accuracy: 1.0000 - val_loss: 0.1231 - val_accuracy: 0.9833\n",
            "Epoch 42/90\n",
            "48/48 - 6s - loss: 0.0015 - accuracy: 1.0000 - val_loss: 0.1314 - val_accuracy: 0.9750\n",
            "Epoch 43/90\n",
            "48/48 - 6s - loss: 0.0024 - accuracy: 1.0000 - val_loss: 0.1125 - val_accuracy: 0.9750\n",
            "Epoch 44/90\n",
            "48/48 - 6s - loss: 0.0025 - accuracy: 1.0000 - val_loss: 0.1107 - val_accuracy: 0.9750\n",
            "Epoch 45/90\n",
            "48/48 - 6s - loss: 0.0033 - accuracy: 1.0000 - val_loss: 0.0981 - val_accuracy: 0.9750\n",
            "Epoch 46/90\n",
            "48/48 - 6s - loss: 0.0041 - accuracy: 1.0000 - val_loss: 0.1043 - val_accuracy: 0.9750\n",
            "Epoch 47/90\n",
            "48/48 - 6s - loss: 0.0047 - accuracy: 1.0000 - val_loss: 0.1097 - val_accuracy: 0.9833\n",
            "Epoch 48/90\n",
            "48/48 - 6s - loss: 0.0031 - accuracy: 1.0000 - val_loss: 0.1155 - val_accuracy: 0.9750\n",
            "Epoch 49/90\n",
            "48/48 - 6s - loss: 0.0042 - accuracy: 1.0000 - val_loss: 0.1106 - val_accuracy: 0.9833\n",
            "Epoch 50/90\n",
            "48/48 - 6s - loss: 0.0014 - accuracy: 1.0000 - val_loss: 0.1030 - val_accuracy: 0.9750\n",
            "Epoch 51/90\n",
            "48/48 - 6s - loss: 0.0010 - accuracy: 1.0000 - val_loss: 0.0960 - val_accuracy: 0.9750\n",
            "Epoch 52/90\n",
            "48/48 - 6s - loss: 0.0016 - accuracy: 1.0000 - val_loss: 0.0926 - val_accuracy: 0.9750\n",
            "Epoch 53/90\n",
            "48/48 - 6s - loss: 0.0118 - accuracy: 0.9958 - val_loss: 0.1265 - val_accuracy: 0.9750\n",
            "Epoch 54/90\n",
            "48/48 - 6s - loss: 0.0114 - accuracy: 0.9958 - val_loss: 0.1206 - val_accuracy: 0.9750\n",
            "Epoch 55/90\n",
            "48/48 - 6s - loss: 0.0059 - accuracy: 1.0000 - val_loss: 0.1316 - val_accuracy: 0.9750\n",
            "Epoch 56/90\n",
            "48/48 - 6s - loss: 0.0021 - accuracy: 1.0000 - val_loss: 0.1255 - val_accuracy: 0.9750\n",
            "Epoch 57/90\n",
            "48/48 - 6s - loss: 0.0045 - accuracy: 1.0000 - val_loss: 0.1092 - val_accuracy: 0.9750\n",
            "Epoch 58/90\n",
            "48/48 - 6s - loss: 0.0140 - accuracy: 0.9979 - val_loss: 0.1603 - val_accuracy: 0.9750\n",
            "Epoch 59/90\n",
            "48/48 - 6s - loss: 0.0020 - accuracy: 1.0000 - val_loss: 0.1597 - val_accuracy: 0.9833\n",
            "Epoch 60/90\n",
            "48/48 - 6s - loss: 0.0090 - accuracy: 0.9979 - val_loss: 0.2044 - val_accuracy: 0.9250\n",
            "Epoch 61/90\n",
            "48/48 - 6s - loss: 0.0016 - accuracy: 1.0000 - val_loss: 0.1216 - val_accuracy: 0.9750\n",
            "Epoch 62/90\n",
            "48/48 - 6s - loss: 0.0057 - accuracy: 0.9958 - val_loss: 0.1310 - val_accuracy: 0.9750\n",
            "Epoch 63/90\n",
            "48/48 - 6s - loss: 0.0088 - accuracy: 0.9979 - val_loss: 0.1119 - val_accuracy: 0.9750\n",
            "Epoch 64/90\n",
            "48/48 - 6s - loss: 0.0065 - accuracy: 0.9958 - val_loss: 0.1034 - val_accuracy: 0.9667\n",
            "Epoch 65/90\n",
            "48/48 - 6s - loss: 0.0071 - accuracy: 0.9979 - val_loss: 0.1367 - val_accuracy: 0.9583\n",
            "Epoch 66/90\n",
            "48/48 - 6s - loss: 0.0025 - accuracy: 1.0000 - val_loss: 0.0951 - val_accuracy: 0.9833\n",
            "Epoch 67/90\n",
            "48/48 - 6s - loss: 0.0024 - accuracy: 1.0000 - val_loss: 0.0873 - val_accuracy: 0.9750\n",
            "Epoch 68/90\n",
            "48/48 - 6s - loss: 0.0046 - accuracy: 0.9979 - val_loss: 0.0880 - val_accuracy: 0.9833\n",
            "Epoch 69/90\n",
            "48/48 - 6s - loss: 0.0025 - accuracy: 1.0000 - val_loss: 0.0962 - val_accuracy: 0.9750\n",
            "Epoch 70/90\n",
            "48/48 - 6s - loss: 0.0030 - accuracy: 0.9979 - val_loss: 0.0940 - val_accuracy: 0.9833\n",
            "Epoch 71/90\n",
            "48/48 - 6s - loss: 0.0016 - accuracy: 1.0000 - val_loss: 0.0975 - val_accuracy: 0.9833\n",
            "Epoch 72/90\n",
            "48/48 - 6s - loss: 0.0065 - accuracy: 0.9979 - val_loss: 0.0925 - val_accuracy: 0.9750\n",
            "Epoch 73/90\n",
            "48/48 - 6s - loss: 0.0017 - accuracy: 1.0000 - val_loss: 0.0921 - val_accuracy: 0.9833\n",
            "Epoch 74/90\n",
            "48/48 - 6s - loss: 0.0023 - accuracy: 1.0000 - val_loss: 0.0866 - val_accuracy: 0.9833\n",
            "Epoch 75/90\n",
            "48/48 - 6s - loss: 0.0017 - accuracy: 1.0000 - val_loss: 0.0901 - val_accuracy: 0.9833\n",
            "Epoch 76/90\n",
            "48/48 - 6s - loss: 0.0062 - accuracy: 0.9958 - val_loss: 0.1092 - val_accuracy: 0.9833\n",
            "Epoch 77/90\n",
            "48/48 - 6s - loss: 0.0016 - accuracy: 1.0000 - val_loss: 0.1017 - val_accuracy: 0.9833\n",
            "Epoch 78/90\n",
            "48/48 - 6s - loss: 0.0020 - accuracy: 1.0000 - val_loss: 0.0851 - val_accuracy: 0.9833\n",
            "Epoch 79/90\n",
            "48/48 - 6s - loss: 0.0018 - accuracy: 1.0000 - val_loss: 0.0803 - val_accuracy: 0.9833\n",
            "Epoch 80/90\n",
            "48/48 - 6s - loss: 0.0011 - accuracy: 1.0000 - val_loss: 0.0838 - val_accuracy: 0.9833\n",
            "Epoch 81/90\n",
            "48/48 - 6s - loss: 0.0029 - accuracy: 1.0000 - val_loss: 0.0756 - val_accuracy: 0.9833\n",
            "Epoch 82/90\n",
            "48/48 - 6s - loss: 4.3487e-04 - accuracy: 1.0000 - val_loss: 0.0788 - val_accuracy: 0.9833\n",
            "Epoch 83/90\n",
            "48/48 - 6s - loss: 9.5523e-04 - accuracy: 1.0000 - val_loss: 0.0817 - val_accuracy: 0.9833\n",
            "Epoch 84/90\n",
            "48/48 - 6s - loss: 0.0031 - accuracy: 0.9979 - val_loss: 0.1423 - val_accuracy: 0.9750\n",
            "Epoch 85/90\n",
            "48/48 - 6s - loss: 5.9992e-04 - accuracy: 1.0000 - val_loss: 0.1468 - val_accuracy: 0.9667\n",
            "Epoch 86/90\n",
            "48/48 - 6s - loss: 0.0010 - accuracy: 1.0000 - val_loss: 0.1449 - val_accuracy: 0.9667\n",
            "Epoch 87/90\n",
            "48/48 - 6s - loss: 0.0034 - accuracy: 1.0000 - val_loss: 0.1288 - val_accuracy: 0.9667\n",
            "Epoch 88/90\n",
            "48/48 - 6s - loss: 0.0063 - accuracy: 0.9979 - val_loss: 0.1296 - val_accuracy: 0.9750\n",
            "Epoch 89/90\n",
            "48/48 - 6s - loss: 0.0025 - accuracy: 1.0000 - val_loss: 0.1478 - val_accuracy: 0.9583\n",
            "Epoch 90/90\n",
            "48/48 - 6s - loss: 0.0034 - accuracy: 1.0000 - val_loss: 0.1000 - val_accuracy: 0.9667\n"
          ],
          "name": "stdout"
        },
        {
          "output_type": "execute_result",
          "data": {
            "text/plain": [
              "<tensorflow.python.keras.callbacks.History at 0x7f4fa0cf6048>"
            ]
          },
          "metadata": {
            "tags": []
          },
          "execution_count": 22
        }
      ]
    },
    {
      "cell_type": "code",
      "metadata": {
        "id": "u3RuX221zE-2",
        "colab_type": "code",
        "colab": {}
      },
      "source": [
        "test_labels = test_batches.classes"
      ],
      "execution_count": 24,
      "outputs": []
    },
    {
      "cell_type": "code",
      "metadata": {
        "id": "FVTp1qVu5ZOm",
        "colab_type": "code",
        "colab": {
          "base_uri": "https://localhost:8080/",
          "height": 36
        },
        "outputId": "876d443a-4f1a-4627-8155-4a9efe1301d6"
      },
      "source": [
        "predictions = model.predict(x=test_batches, steps=len(test_batches), verbose=1)"
      ],
      "execution_count": 25,
      "outputs": [
        {
          "output_type": "stream",
          "text": [
            "12/12 [==============================] - 31s 3s/step\n"
          ],
          "name": "stdout"
        }
      ]
    },
    {
      "cell_type": "code",
      "metadata": {
        "id": "bCw5oS8D5jtO",
        "colab_type": "code",
        "colab": {}
      },
      "source": [
        "cm = confusion_matrix(y_true=test_labels, y_pred=predictions.argmax(axis=1))"
      ],
      "execution_count": 26,
      "outputs": []
    },
    {
      "cell_type": "code",
      "metadata": {
        "id": "6_-aVTa55mSp",
        "colab_type": "code",
        "colab": {}
      },
      "source": [
        "def plot_confusion_matrix(cm, classes, normalize=False,\n",
        "                          title='Confusion Matrix',\n",
        "                          cmap=plt.cm.Blues):\n",
        "  plt.imshow(cm, interpolation='nearest', cmap=cmap)\n",
        "  plt.title(title)\n",
        "  plt.colorbar()\n",
        "  tick_marks = np.arange(len(classes))\n",
        "  plt.xticks(tick_marks, classes, rotation=45)\n",
        "  plt.yticks(tick_marks, classes)\n",
        "\n",
        "  if normalize:\n",
        "    cm=cm.astype('float') / cm.sum(axis=1)[:, np.newaxis]\n",
        "    print(\"Normalized Confusion Matrix\")\n",
        "  else:\n",
        "    print('Confusion Matrix without Normalization')\n",
        "\n",
        "  print(cm)\n",
        "\n",
        "  thresh  = cm.max()/2\n",
        "  for i, j in itertools.product(range(cm.shape[0]), range(cm.shape[1])):\n",
        "    plt.text(j, i, cm[i, j],\n",
        "             horizontalalignment=\"center\",\n",
        "             color=\"white\" if cm[i,j] > thresh else \"black\")\n",
        "  \n",
        "  plt.tight_layout()\n",
        "  plt.ylabel('True Label')\n",
        "  plt.xlabel('Predicted Label')"
      ],
      "execution_count": 67,
      "outputs": []
    },
    {
      "cell_type": "code",
      "metadata": {
        "id": "kGrjrW9n5tmk",
        "colab_type": "code",
        "colab": {
          "base_uri": "https://localhost:8080/",
          "height": 36
        },
        "outputId": "1ab657d6-bb3f-40dc-d390-bb6e00ba3efa"
      },
      "source": [
        "test_batches.class_indices"
      ],
      "execution_count": 32,
      "outputs": [
        {
          "output_type": "execute_result",
          "data": {
            "text/plain": [
              "{'cloudy': 0, 'rain': 1, 'shine': 2, 'sunrise': 3}"
            ]
          },
          "metadata": {
            "tags": []
          },
          "execution_count": 32
        }
      ]
    },
    {
      "cell_type": "code",
      "metadata": {
        "id": "4aK8b3s15x-S",
        "colab_type": "code",
        "colab": {}
      },
      "source": [
        "cm_plot_labels = list(test_batches.class_indices.keys())"
      ],
      "execution_count": 64,
      "outputs": []
    },
    {
      "cell_type": "code",
      "metadata": {
        "id": "VC9VTbryC3WU",
        "colab_type": "code",
        "colab": {
          "base_uri": "https://localhost:8080/",
          "height": 36
        },
        "outputId": "a00fb951-d2cf-4d7e-e2e9-8a1321001618"
      },
      "source": [
        "cm_plot_labels"
      ],
      "execution_count": 65,
      "outputs": [
        {
          "output_type": "execute_result",
          "data": {
            "text/plain": [
              "['cloudy', 'rain', 'shine', 'sunrise']"
            ]
          },
          "metadata": {
            "tags": []
          },
          "execution_count": 65
        }
      ]
    },
    {
      "cell_type": "code",
      "metadata": {
        "id": "5JNcwnUV59eF",
        "colab_type": "code",
        "colab": {
          "base_uri": "https://localhost:8080/",
          "height": 404
        },
        "outputId": "f546f336-a3fc-4797-8ac0-a50db8d463fe"
      },
      "source": [
        "plot_confusion_matrix(cm=cm, classes=cm_plot_labels)"
      ],
      "execution_count": 68,
      "outputs": [
        {
          "output_type": "stream",
          "text": [
            "Confusion Matrix without Normalization\n",
            "[[24  0  4  2]\n",
            " [ 0 30  0  0]\n",
            " [ 1  0 29  0]\n",
            " [ 0  0  0 30]]\n"
          ],
          "name": "stdout"
        },
        {
          "output_type": "display_data",
          "data": {
            "image/png": "[encoded data removed]",
            "text/plain": [
              "<Figure size 432x288 with 2 Axes>"
            ]
          },
          "metadata": {
            "tags": [],
            "needs_background": "light"
          }
        }
      ]
    },
    {
      "cell_type": "code",
      "metadata": {
        "id": "JB1oMAMOFo1B",
        "colab_type": "code",
        "colab": {
          "base_uri": "https://localhost:8080/",
          "height": 36
        },
        "outputId": "55001298-4510-4aea-fb6a-bac485282893"
      },
      "source": [
        "accuracy_score(test_labels, predictions.argmax(axis=1))"
      ],
      "execution_count": 72,
      "outputs": [
        {
          "output_type": "execute_result",
          "data": {
            "text/plain": [
              "0.9416666666666667"
            ]
          },
          "metadata": {
            "tags": []
          },
          "execution_count": 72
        }
      ]
    },
    {
      "cell_type": "markdown",
      "metadata": {
        "id": "epTYaKiXFaj5",
        "colab_type": "text"
      },
      "source": [
        "#### It seems the model trained very well as the accuracy is 94%."
      ]
    }
  ]
}